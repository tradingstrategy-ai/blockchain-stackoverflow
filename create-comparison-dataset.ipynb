{
 "cells": [
  {
   "cell_type": "markdown",
   "metadata": {},
   "source": [
    "# Comparison dataset creation\n",
    "\n",
    "- Create a comparison dataset from common programming languages and frameworks like JavaScript, Python, Svelte, React\n",
    "- [See details in create-reduced-dataset.ipynb](./create-reduced-dataset.ipynb)\n",
    "- We tested both Brotli (default level) and Zstd compression (level 19). Because of the English language dataset, both compressions are par at Brotli 1.3GB vs. Zstd 1.3GB."
   ]
  },
  {
   "cell_type": "code",
   "execution_count": null,
   "metadata": {},
   "outputs": [],
   "source": [
    "import pandas as pd\n",
    "\n",
    "# Read tags\n",
    "tags_df = pd.read_parquet(\"other-tags.parquet\")\n",
    "\n",
    "#: In SO export tags are concatenated string that looks like this\n",
    "#: <winapi><visual-c++><mfc>\n",
    "formatted_tags = [f\"<{t}>\" for t in tags_df[\"TagName\"]]\n",
    "print(\"Formatted tags look like:\", formatted_tags[0:5])\n",
    "\n",
    "tags_regex = \"|\".join(formatted_tags)"
   ]
  },
  {
   "cell_type": "code",
   "execution_count": null,
   "metadata": {},
   "outputs": [],
   "source": [
    "from tqdm.auto import tqdm\n",
    "from pandas.io.parsers.readers import TextFileReader\n",
    "\n",
    "chunk_size = 2**16  # 64k rows at a time\n",
    "result_df: pd.DataFrame = None\n",
    "matched_chunks: list[pd.DataFrame] = []\n",
    "match_count = row_count = 0\n",
    "\n",
    "with tqdm() as progress_bar:\n",
    "\n",
    "    reader: TextFileReader\n",
    "\n",
    "    rows_read = 0\n",
    "\n",
    "    with pd.read_csv(\"csv/Posts.csv\", chunksize=chunk_size) as reader:\n",
    "        chunk: pd.DataFrame\n",
    "        for chunk in reader:\n",
    "            \n",
    "            # Make Tags column regex friendly\n",
    "            chunk[\"Tags\"] = chunk[\"Tags\"].fillna(\"\")\n",
    "            \n",
    "            # Find posts in this chunk that match our tag filter\n",
    "            matched_chunk = chunk.loc[chunk[\"Tags\"].str.contains(tags_regex, case=False, regex=True)]\n",
    "            \n",
    "            matched_chunks.append(matched_chunk)\n",
    "\n",
    "            match_count += len(matched_chunk)\n",
    "            row_count += len(chunk)\n",
    "\n",
    "            last = chunk.iloc[-1]\n",
    "\n",
    "            # Show the date where the filter progres is going.\n",
    "            # We are finished when reaching 2023-06\n",
    "            progress_bar.set_postfix({\n",
    "                \"Date\": last[\"CreationDate\"],      \n",
    "                \"Matches\": match_count,      \n",
    "                \"Total rows\": f\"{row_count:,}\",\n",
    "            })\n",
    "\n",
    "            # Display rows read as a progress bar,\n",
    "            # but we do not know the end\n",
    "            progress_bar.update(len(chunk))\n",
    "\n",
    "\n",
    "result_df = pd.concat(matched_chunks)\n",
    "\n",
    "# Parse dates\n",
    "result_df[\"CreationDate\"] = pd.to_datetime(result_df[\"CreationDate\"], format='ISO8601')\n"
   ]
  },
  {
   "cell_type": "code",
   "execution_count": null,
   "metadata": {},
   "outputs": [],
   "source": [
    "# Write out to disk\n",
    "# 1.3GB\n",
    "result_df.to_parquet(\"other-questions.parquet\", compression=\"brotli\")\n",
    "\n",
    "# zstd level=19 1.3GB\n",
    "# result_df.to_parquet(\"other-questions.parquet\", engine='pyarrow', compression='zstd', compression_level=15)\n",
    "\n",
    "print(f\"We have total {len(result_df)} other questions and answers\")"
   ]
  }
 ],
 "metadata": {
  "kernelspec": {
   "display_name": "blockchain-stackoverflow-hs4u8hi8-py3.11",
   "language": "python",
   "name": "python3"
  },
  "language_info": {
   "codemirror_mode": {
    "name": "ipython",
    "version": 3
   },
   "file_extension": ".py",
   "mimetype": "text/x-python",
   "name": "python",
   "nbconvert_exporter": "python",
   "pygments_lexer": "ipython3",
   "version": "3.11.5"
  },
  "orig_nbformat": 4
 },
 "nbformat": 4,
 "nbformat_minor": 2
}
