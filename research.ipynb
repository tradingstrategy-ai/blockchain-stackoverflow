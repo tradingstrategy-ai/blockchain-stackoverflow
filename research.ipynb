{
 "cells": [
  {
   "cell_type": "markdown",
   "metadata": {},
   "source": [
    "# Blockchain development research\n",
    "\n",
    "- This is a research of popularity and features of various different blockchain development\n",
    "  by analysing the questions and answers on the world number one programmer forum StackOverflow\n",
    "- For updates [subscribe to newsletter](https://tradingstrategy.ai/community) or\n",
    "  [follow on Twitter](https://tradingstrategy.ai/community)"
   ]
  },
  {
   "cell_type": "code",
   "execution_count": 1,
   "metadata": {},
   "outputs": [],
   "source": [
    "import pandas as pd\n",
    "\n",
    "from blockchain_stackoverflow import entertain_me\n",
    "\n",
    "entertain_me()  # Initialise notebook output\n",
    "\n",
    "# Load our data\n",
    "df = pd.read_parquet(\"blockchain-questions.parquet\")"
   ]
  },
  {
   "cell_type": "markdown",
   "metadata": {},
   "source": [
    "## Top 3\n",
    "\n",
    "Plot the popularity of top three blockchains, as inferred from the domain specific knowledge."
   ]
  },
  {
   "cell_type": "code",
   "execution_count": 2,
   "metadata": {},
   "outputs": [],
   "source": [
    "from blockchain_stackoverflow.helpers import get_posts_by_tag\n",
    "\n",
    "bitcoin = get_posts_by_tag(df, (\"bitcoin\",))\n",
    "ethereum = get_posts_by_tag(df, (\"ethereum\",))\n",
    "solana = get_posts_by_tag(df, (\"solana\",))\n",
    "\n",
    "\n",
    "\n"
   ]
  }
 ],
 "metadata": {
  "kernelspec": {
   "display_name": "blockchain-stackoverflow-hs4u8hi8-py3.11",
   "language": "python",
   "name": "python3"
  },
  "language_info": {
   "codemirror_mode": {
    "name": "ipython",
    "version": 3
   },
   "file_extension": ".py",
   "mimetype": "text/x-python",
   "name": "python",
   "nbconvert_exporter": "python",
   "pygments_lexer": "ipython3",
   "version": "3.11.5"
  },
  "orig_nbformat": 4
 },
 "nbformat": 4,
 "nbformat_minor": 2
}
