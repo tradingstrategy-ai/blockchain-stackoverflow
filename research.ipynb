{
 "cells": [
  {
   "cell_type": "markdown",
   "metadata": {},
   "source": [
    "# How blockchain development as changed oevr time\n",
    "\n",
    "- This interactive [Jupyter Notebook](https://tradingstrategy.ai/glossary/jupyter-notebook) researches the popularity and features of different blockchain software development experiences.\n",
    "- The data research is done by analysing questions and answers on the world's number one programmer forum, StackOverflow.\n",
    "\n",
    "For any updates and follows ups, [subscribe to the newsletter](https://tradingstrategy.ai/community) or [follow on Twitter](https://tradingstrategy.ai/community).\n",
    "\n",
    "For any questions, [come to Trading Strategy Discord](https://discord.com/invite/en8tW6MDtw)."
   ]
  },
  {
   "cell_type": "markdown",
   "metadata": {},
   "source": [
    "## Executive summary\n",
    "\n",
    "- This study focuses only on software development aspects, out of score are e.g. end users and fair value of cryptocurrencies\n",
    "- Blockchain development popularity is in decline based on StackOverflow data\n",
    "- [Ethereum Virtual Machine](https://tradingstrategy.ai/glossary/evm) based blockchains dominating, as expected\n",
    "- Ethereum and [EVM-compatible blockchains](https://tradingstrategy.ai/glossary/evm-compatible) cannot be differetiate, as they are more or less [clones](https://tradingstrategy.ai/glossary/clone) \n",
    "  and do not offer unique selling points for a software developer\n",
    "- Solana is ~1/6th of EVM popularity, surprisingly high\n",
    "- Next runner ups are NEAR protocol and Bitcoin\n",
    "- We see two waves followed by cryptocurrency bull markets: 2018 and 2022. \n",
    "- The EVM development activity is still above the last bull market peak. Cryptocurrency development is less popular than it used to be,\n",
    "  but nowhere near dead yet.\n",
    "- Bitcoin development interest has not changed over a decade - not dead, but nothing happening\n",
    "- There are various alternative blockchain technologies that do not have taken off\n",
    "  in the development popularity over the years.\n",
    "- Private blockchains, Hyperledger, peaked 2018, in fact passed Ethereum, but \n",
    "  has been in decline ever since\n",
    "- We see some positive, and somewhat surprising results, like activation\n",
    "\n",
    "The data is not fully representative, as it focuses on a single forum, StackOverflow, of which popularity has declined over the years. Futhermore, [the datasets end in May 2023](https://news.ycombinator.com/item?id=37360026). We assume StackOverflow stopped published datasets and is likely \n",
    "trying to figure out how to charge AI companies for downloading the data. Although promised to continue, there has not been\n",
    "any updates on the matter.\n",
    "\n",
    "This notebook also serves as a best practices example on data resaerch using [Python](https://tradingstrategy.ai/glossary/python), [Jupyter](https://tradingstrategy.ai/glossary/jupyter-notebook) and [Pandas](https://tradingstrategy.ai/glossary/pandas).\n"
   ]
  },
  {
   "cell_type": "markdown",
   "metadata": {},
   "source": [
    "## Preface\n",
    "\n",
    "This little research was created in order to answer the question \"do there exist viable blockchain development outside EVM currently\".\n",
    "\n",
    "- This was done in the light of the recent incident of MakerDAO founder, one of the oldest Ethereum projects, [praising Solana](), the second most popular alternative for [Ethereum Virtual Machine](https://tradingstrategy.ai/glossary/evm) ecosystem\n",
    "- [Drama ensued](https://decrypt.co/154834/vitalik-buterin-sells-mkr-tokens-as-makerdao-co-founder-pushes-for-solana-based-newchain/)\n",
    "- This was also done out of the curiosity to see if \"blockchain and cryptocurrencies are dead\"\n"
   ]
  },
  {
   "cell_type": "markdown",
   "metadata": {},
   "source": [
    "## About StackOverflow and its data\n",
    "\n",
    "StackOverflow is, and has been, the number one software development questions and answers forum for over a decade.\n",
    "\n",
    "- We know the popularity of StackOverflow is in decline, and [it has been declining for many years before the AI boom started](https://observablehq.com/@ayhanfuat/the-fall-of-stack-overflow).\n",
    "- Below, we check if the overall decline of StackOverflow popularity has any significance for our analysis. Any effect seems to be minor."
   ]
  },
  {
   "cell_type": "markdown",
   "metadata": {},
   "source": [
    "## Alternative datasets\n",
    "\n",
    "We are aware that some blockchain ecosystems have their own [StackExchange sites](https://en.wikipedia.org/wiki/Stack_Exchange).\n",
    "A StackExchange site is a website similar to StackOverflow, but for a particular topic.\n",
    "\n",
    "- These datasets represent end-user questions along software developer questions\n",
    "- These datasets were not used due to lack of time\n",
    "- Including ethereum.stackexchange.com would improve Ethereum dominance by a factor of 5x - 10x\n",
    "- We believe StackOverlow represents **mainstream software development interest**, \n",
    "  but might not be a good representation of early adopter interest\n",
    "- We may do another research notebooks on these in the future, so please [follow us](https://tradingstrategy.ai/community)\n",
    "\n",
    "Here is a overview of different blockchain ecosystem StackExchange sites we are aware of\n",
    "\n",
    "- [Ethereum](https://ethereum.stackexchange.com) - 60k questions\n",
    "- [Bitcoin](https://ethereum.stackexchange.com) - 60k questions\n",
    "- [Tezos](https://ethereum.stackexchange.com) - 60k questions\n",
    "- [Polkadot](https://ethereum.stackexchange.com) - 60k questions"
   ]
  },
  {
   "cell_type": "markdown",
   "metadata": {},
   "source": [
    "## Usage and initialisation\n",
    "\n",
    "Here we start setting up our interactive notebook.\n",
    "\n",
    "- Using data files supplied with Github repository\n",
    "- [For full usage instructions, see README](./README.md)"
   ]
  },
  {
   "cell_type": "code",
   "execution_count": 24,
   "metadata": {},
   "outputs": [],
   "source": [
    "import pandas as pd\n",
    "\n",
    "from blockchain_stackoverflow import entertain_me\n",
    "from blockchain_stackoverflow.helpers import clip_to_data_available_period\n",
    "\n",
    "\n",
    "# Initialise notebook output\n",
    "entertain_me()  \n",
    "\n",
    "# Load our data\n",
    "try:\n",
    "    df = pd.read_parquet(\"blockchain-questions.parquet\")\n",
    "except OSError as e:\n",
    "    raise RuntimeError(f\"Did you remember to run git lfs checkout\") from e\n",
    "\n",
    "df = clip_to_data_available_period(df)"
   ]
  },
  {
   "cell_type": "markdown",
   "metadata": {},
   "source": [
    "## Blockchain questions data\n",
    "\n",
    "- We have collected ~30k StackOverflow blockchain development related posts over a decade\n",
    "- First posts were Bitcoin related\n",
    "- After Ethereum mainnet become useable 2017, Ethereum has dominated blockchain development"
   ]
  },
  {
   "cell_type": "code",
   "execution_count": 25,
   "metadata": {},
   "outputs": [],
   "source": [
    "import matplotlib.pyplot as pyplot\n",
    "\n",
    "from blockchain_stackoverflow.helpers import axis_formatter_with_separator\n",
    "\n",
    "all_posts_quarterly = pd.read_parquet(\"post_counts_quarterly.parquet\")\n",
    "all_posts_quarterly = all_posts_quarterly[:pd.Timestamp(\"2023-05-31\")]\n",
    "\n",
    "with pyplot.xkcd():\n",
    "    ax = all_posts_quarterly.plot.line()\n",
    "    ax.set_xlabel(\"Time (quarter)\")\n",
    "    ax.set_ylabel(\"StackOverflow posts (all)\")\n",
    "    ax.get_yaxis().set_major_formatter(axis_formatter_with_separator)"
   ]
  },
  {
   "cell_type": "code",
   "execution_count": 26,
   "metadata": {},
   "outputs": [
    {
     "data": {
      "text/plain": [
       "Text(0, 0.5, 'All blockchains posts per month')"
      ]
     },
     "execution_count": 26,
     "metadata": {},
     "output_type": "execute_result"
    }
   ],
   "source": [
    "from blockchain_stackoverflow.helpers import bin_to_time\n",
    "\n",
    "all_blockchain_posts = bin_to_time(df, frequency=\"MS\")\n",
    "\n",
    "ax = all_blockchain_posts.plot.line()\n",
    "ax.set_xlabel(\"Time\")\n",
    "ax.set_ylabel(\"All blockchains posts per month\")\n"
   ]
  },
  {
   "cell_type": "markdown",
   "metadata": {},
   "source": [
    "## Blockchains - top developer interest\n",
    "\n",
    "Plot the popularity of top three blockchains, as inferred from the domain specific knowledge.\n",
    "\n",
    "- Ethereum, Bitcoin, Solana and Near Protocol have so much developer interest that it does not make sense\n",
    "  to plot them on the same scale with the other chains\n",
    "\n",
    "**Note**: This chart is absolute post numbers and not adjusted to the overall decline of StackOverflow."
   ]
  },
  {
   "cell_type": "code",
   "execution_count": 27,
   "metadata": {},
   "outputs": [
    {
     "name": "stderr",
     "output_type": "stream",
     "text": [
      "/Users/moo/Library/Caches/pypoetry/virtualenvs/blockchain-stackoverflow-TYKATsCO-py3.11/lib/python3.11/site-packages/pandas/plotting/_matplotlib/core.py:513: RuntimeWarning: More than 20 figures have been opened. Figures created through the pyplot interface (`matplotlib.pyplot.figure`) are retained until explicitly closed and may consume too much memory. (To control this warning, see the rcParam `figure.max_open_warning`). Consider using `matplotlib.pyplot.close()`.\n",
      "  fig = self.plt.figure(figsize=self.figsize)\n"
     ]
    },
    {
     "data": {
      "text/plain": [
       "Text(0, 0.5, 'Top blockchain StackOverflow posts per quarter')"
      ]
     },
     "execution_count": 27,
     "metadata": {},
     "output_type": "execute_result"
    }
   ],
   "source": [
    "from blockchain_stackoverflow.helpers import create_binned_df_by_tags\n",
    "\n",
    "quaterly_binned = create_binned_df_by_tags(df, {\n",
    "    \"bitcoin\": (\"bitcoin\", \"bitcoind\", \"bitcoinj\"),\n",
    "    \"near\": (\"nearprotocol\", \"near\"),\n",
    "    \"ethereum\": (\"ethereum\",),\n",
    "    \"solana\": (\"solana\", \"solana-cli\"),\n",
    "})\n",
    "\n",
    "ax = quaterly_binned.plot.line(\n",
    "    color={\n",
    "        \"bitcoin\": \"orange\",\n",
    "        \"ethereum\": \"lightblue\",\n",
    "        \"solana\": \"purple\",\n",
    "        \"near\": \"pink\",\n",
    "    }\n",
    ")\n",
    "\n",
    "ax.set_xlabel(\"Time\")\n",
    "ax.set_ylabel(\"Top blockchain StackOverflow posts per quarter\")"
   ]
  },
  {
   "cell_type": "markdown",
   "metadata": {},
   "source": [
    "## Adjusted top developer interest \n",
    "\n",
    "- Here we present blockchain posts as % overall posts of StackOverflow\n",
    "- This accounts for any general trends of StackOverflow usage\n",
    "- We find out that while when adjusted for the global decline of StackOverflow usage,\n",
    "  there is a change in the downwards trends to more positive, but this change is not significant\n",
    "\n"
   ]
  },
  {
   "cell_type": "code",
   "execution_count": 28,
   "metadata": {},
   "outputs": [],
   "source": [
    "# How many % of all SO.com question we are\n",
    "adjusted_quaterly_binned = quaterly_binned.div(all_posts_quarterly[\"posts_by_period\"], axis=\"index\") * 100\n",
    "adjusted_quaterly_binned = adjusted_quaterly_binned.loc[pd.Timestamp(\"2012-01-01\"):]"
   ]
  },
  {
   "cell_type": "code",
   "execution_count": 29,
   "metadata": {},
   "outputs": [
    {
     "data": {
      "text/plain": [
       "Text(0, 0.5, 'Top blockchain posts - StackOverflow popularity adjusted')"
      ]
     },
     "execution_count": 29,
     "metadata": {},
     "output_type": "execute_result"
    }
   ],
   "source": [
    "\n",
    "ax = adjusted_quaterly_binned.plot.line(\n",
    "    color={\n",
    "        \"bitcoin\": \"orange\",\n",
    "        \"ethereum\": \"lightblue\",\n",
    "        \"solana\": \"purple\",\n",
    "        \"near\": \"pink\",\n",
    "    }\n",
    ")\n",
    "\n",
    "ax.set_xlabel(\"Time\")\n",
    "ax.set_ylabel(\"Top blockchain posts - StackOverflow popularity adjusted\")"
   ]
  },
  {
   "cell_type": "markdown",
   "metadata": {},
   "source": [
    "# Kindlings\n",
    "\n",
    "- New blockchains that are gaining traction, have not yet gained traction or never gained traction\n",
    "- These are plot on their own chart, as the axis would be too much skewed by the top blockchains\n",
    "- As of 2023, only Hedera seems to clearly gaining traction\n",
    "- Tron, despite the reputation of its infamous founder, is really being seeing developer interest"
   ]
  },
  {
   "cell_type": "code",
   "execution_count": 30,
   "metadata": {},
   "outputs": [
    {
     "data": {
      "text/plain": [
       "Text(0, 0.5, 'StackOverflow posts per quarter')"
      ]
     },
     "execution_count": 30,
     "metadata": {},
     "output_type": "execute_result"
    }
   ],
   "source": [
    "\n",
    "quaterly_binned = create_binned_df_by_tags(df, {\n",
    "    \"polkadot\": (\"polkadot\", \"substrate\", \"polkadot-js\"),\n",
    "    \"cardano\": (\"cardano\",),\n",
    "    \"ripple\": (\"xrp\", \"rippled\"),\n",
    "    \"stellar\": (\"stellar\"),\n",
    "    \"eos\": (\"eos\"),\n",
    "    \"radix\": (\"scrypto\"),\n",
    "    \"aptos\": (\"aptos\"),\n",
    "    \"sui\": (\"sui\"),\n",
    "    \"cosmos\": (\"cosmos-sdk\", \"cosmwasm\", \"tendermint\"),\n",
    "    \"multiversx\": (\"elrond\",),\n",
    "    \"ton\": (\"ton\",),\n",
    "    \"filecoin\": (\"filecoin\",),\n",
    "    \"hedera\": (\"hedera\", \"hedera-hashgraph\",),\n",
    "    \"tron\": (\"tron\",),\n",
    "})\n",
    "\n",
    "ax = quaterly_binned.plot.line()\n",
    "\n",
    "ax.set_xlabel(\"Time\")\n",
    "ax.set_ylabel(\"StackOverflow posts per quarter\")"
   ]
  },
  {
   "cell_type": "markdown",
   "metadata": {},
   "source": [
    "# Generic blockchain tags\n",
    "\n",
    "- What are the trends on generic blockchain development tags that cannot be associated with any chain"
   ]
  },
  {
   "cell_type": "code",
   "execution_count": 31,
   "metadata": {},
   "outputs": [
    {
     "data": {
      "text/plain": [
       "Text(0, 0.5, 'StackOverflow posts per quarter')"
      ]
     },
     "execution_count": 31,
     "metadata": {},
     "output_type": "execute_result"
    }
   ],
   "source": [
    "quaterly_binned = create_binned_df_by_tags(\n",
    "    df, \n",
    "    {\n",
    "        \"blockchain\": (\"blockchain\",),\n",
    "        \"smartcontracts\": (\"smartcontracts\",),\n",
    "        \"nft\": (\"nft\",),\n",
    "        \"cryptocurrency\": (\"cryptocurrency\",),\n",
    "        \"solidity\": (\"solidity\",),\n",
    "        \"decentralized-applications\": (\"decentralized-applications\",),\n",
    "        \"web3\": (\"web3\",),\n",
    "    }, \n",
    ")\n",
    "\n",
    "ax = quaterly_binned.plot.line()\n",
    "\n",
    "ax.set_xlabel(\"Time\")\n",
    "ax.set_ylabel(\"StackOverflow posts per quarter\")"
   ]
  },
  {
   "cell_type": "markdown",
   "metadata": {},
   "source": [
    "# Deadchains\n",
    "\n",
    "- Compare blockchains that are likely no longer relevant today\n"
   ]
  },
  {
   "cell_type": "code",
   "execution_count": 32,
   "metadata": {},
   "outputs": [
    {
     "data": {
      "text/plain": [
       "Text(0, 0.5, 'StackOverflow posts per year')"
      ]
     },
     "execution_count": 32,
     "metadata": {},
     "output_type": "execute_result"
    }
   ],
   "source": [
    "\n",
    "yearly_binned = create_binned_df_by_tags(\n",
    "    df, \n",
    "    {\n",
    "        \"litecoin\": (\"litecoin\",),\n",
    "        \"stellar\": (\"stellar\",),\n",
    "        \"ripple\": (\"xrp\", \"rippled\"),\n",
    "        \"diem\": (\"diem\",),\n",
    "        \"dogecoin\": (\"dogecoin-api\",),\n",
    "        \"eos\": (\"eos\",),\n",
    "    }, \n",
    "    frequency=pd.offsets.YearBegin(),\n",
    ")\n",
    "\n",
    "ax = yearly_binned.plot.line()\n",
    "\n",
    "ax.set_xlabel(\"Time\")\n",
    "ax.set_ylabel(\"StackOverflow posts per year\")"
   ]
  },
  {
   "cell_type": "markdown",
   "metadata": {},
   "source": [
    "# Centralised exchanges developer interest\n",
    "\n",
    "- We compare centralised exchange developer questions\n",
    "- These are related to CEX APIs and automated trading\n",
    "- This gives perspective whether or not infrastructure technology is winning\n",
    "- We bin yearly because low activitity"
   ]
  },
  {
   "cell_type": "code",
   "execution_count": 33,
   "metadata": {},
   "outputs": [
    {
     "data": {
      "text/plain": [
       "Text(0, 0.5, 'StackOverflow posts per year')"
      ]
     },
     "execution_count": 33,
     "metadata": {},
     "output_type": "execute_result"
    }
   ],
   "source": [
    "\n",
    "yearly_binned = create_binned_df_by_tags(\n",
    "    df, \n",
    "    {\n",
    "        \"binance\": (\"binance\",),\n",
    "        \"coinbase\": (\"coinbase-api\",),\n",
    "        \"kraken\": (\"kraken.com\",),\n",
    "    }, \n",
    "    frequency=pd.offsets.YearBegin(),\n",
    ")\n",
    "\n",
    "ax = yearly_binned.plot.line()\n",
    "\n",
    "ax.set_xlabel(\"Time\")\n",
    "ax.set_ylabel(\"StackOverflow posts per year\")\n",
    "\n"
   ]
  },
  {
   "cell_type": "markdown",
   "metadata": {},
   "source": [
    "# Binance Smart Chain vs. Ethereum\n",
    "\n",
    "- Binance Smart Chain is a popular EVM-compatible clone chain due to push from Binance (50% CEX market share) \n",
    "- We do few comparisons with Binance branded tags against their native Ethereum counterparts"
   ]
  },
  {
   "cell_type": "code",
   "execution_count": 34,
   "metadata": {},
   "outputs": [
    {
     "data": {
      "text/plain": [
       "Text(0, 0.5, 'StackOverflow posts per quarter')"
      ]
     },
     "execution_count": 34,
     "metadata": {},
     "output_type": "execute_result"
    }
   ],
   "source": [
    "\n",
    "quaterly_binned = create_binned_df_by_tags(\n",
    "    df, \n",
    "    {\n",
    "        \"erc20\": (\"erc20\",),\n",
    "        \"bep20\": (\"bep20\",),\n",
    "    }, \n",
    ")\n",
    "\n",
    "ax = quaterly_binned.plot.line()\n",
    "\n",
    "ax.set_xlabel(\"Time\")\n",
    "ax.set_ylabel(\"StackOverflow posts per quarter\")"
   ]
  },
  {
   "cell_type": "markdown",
   "metadata": {},
   "source": [
    "# Uniswap vs. PancakeSwap\n",
    "\n",
    "- Which one do developers care about"
   ]
  },
  {
   "cell_type": "code",
   "execution_count": 35,
   "metadata": {},
   "outputs": [
    {
     "data": {
      "text/plain": [
       "Text(0, 0.5, 'StackOverflow posts per quarter')"
      ]
     },
     "execution_count": 35,
     "metadata": {},
     "output_type": "execute_result"
    }
   ],
   "source": [
    "quaterly_binned = create_binned_df_by_tags(\n",
    "    df, \n",
    "    {\n",
    "        \"uniswap\": (\"uniswap\",),\n",
    "        \"pancakeswap\": (\"pancakeswap\",),\n",
    "    }, \n",
    ")\n",
    "\n",
    "ax = quaterly_binned.plot.line()\n",
    "\n",
    "ax.set_xlabel(\"Time\")\n",
    "ax.set_ylabel(\"StackOverflow posts per quarter\")"
   ]
  },
  {
   "cell_type": "markdown",
   "metadata": {},
   "source": [
    "# Fungible vs. non-fungible tokens\n",
    "\n",
    "- How NFTs compare against value tokens"
   ]
  },
  {
   "cell_type": "code",
   "execution_count": 36,
   "metadata": {},
   "outputs": [
    {
     "data": {
      "text/plain": [
       "Text(0, 0.5, 'StackOverflow posts per quarter')"
      ]
     },
     "execution_count": 36,
     "metadata": {},
     "output_type": "execute_result"
    }
   ],
   "source": [
    "quaterly_binned = create_binned_df_by_tags(\n",
    "    df, \n",
    "    {\n",
    "        \"nft-related\": (\"nft\", \"metaplex\", \"opensea\"),\n",
    "        \"token-related\": (\"erc20\", \"uniswap\"),\n",
    "    }, \n",
    ")\n",
    "\n",
    "ax = quaterly_binned.plot.line()\n",
    "\n",
    "ax.set_xlabel(\"Time\")\n",
    "ax.set_ylabel(\"StackOverflow posts per quarter\")"
   ]
  },
  {
   "cell_type": "markdown",
   "metadata": {},
   "source": [
    "# Ethereum JavaScript vs. Python\n",
    "\n",
    "- Compare Ethereum integration libraries for various major programming languages\n",
    "    - JavaScript\n",
    "    - Python\n",
    "    - Java\n",
    "    - Dart\n",
    "    - Go\n",
    "- We see how the top two languages, JavaScript and Python, have integration library related questions\n"
   ]
  },
  {
   "cell_type": "code",
   "execution_count": 37,
   "metadata": {},
   "outputs": [
    {
     "data": {
      "text/plain": [
       "Text(0, 0.5, 'StackOverflow posts per quarter')"
      ]
     },
     "execution_count": 37,
     "metadata": {},
     "output_type": "execute_result"
    }
   ],
   "source": [
    "quaterly_binned = create_binned_df_by_tags(\n",
    "    df, \n",
    "    {\n",
    "        \"javascript-integration\": (\"web3js\", \"ethers.js\"),\n",
    "        \"python-integration\": (\"web3py\", \"brownie\"),\n",
    "        \"java-integration\": (\"web3-java\",),\n",
    "        \"dart-integration\": (\"web3dart\",),\n",
    "        \"go-integration\": (\"go-ethereum\",),\n",
    "    }, \n",
    ")\n",
    "\n",
    "ax = quaterly_binned.plot.line()\n",
    "\n",
    "ax.set_xlabel(\"Time\")\n",
    "ax.set_ylabel(\"StackOverflow posts per quarter\")"
   ]
  },
  {
   "cell_type": "markdown",
   "metadata": {},
   "source": [
    "# New smart contract programming languages\n",
    "\n",
    "- How new smart contract programming languages are coming along\n",
    "- We do not benchmark against Solidity as it would skew the axes\n",
    "- With the launch of Aptos and Sui chains, originally developed\n",
    "  for Facebook's Diem blockchain, Move is gaining in popularity this year\n",
    "- AssemblyScript is used outside smart contracts, but it saw\n",
    "  a blink of a popularity on Near blockchain\n",
    "\n"
   ]
  },
  {
   "cell_type": "code",
   "execution_count": 38,
   "metadata": {},
   "outputs": [
    {
     "data": {
      "text/plain": [
       "Text(0, 0.5, 'StackOverflow posts per quarter')"
      ]
     },
     "execution_count": 38,
     "metadata": {},
     "output_type": "execute_result"
    }
   ],
   "source": [
    "quaterly_binned = create_binned_df_by_tags(\n",
    "    df, \n",
    "    {\n",
    "        \"move\": (\"move-lang\",),\n",
    "        \"scrypto\": (\"scrypto\",),\n",
    "        \"vyper\": (\"vyper\",),\n",
    "        \"assemblyscript\": (\"assemblyscript\",)\n",
    "    }, \n",
    ")\n",
    "\n",
    "ax = quaterly_binned.plot.line()\n",
    "\n",
    "ax.set_xlabel(\"Time\")\n",
    "ax.set_ylabel(\"StackOverflow posts per quarter\")"
   ]
  },
  {
   "cell_type": "markdown",
   "metadata": {},
   "source": [
    "# Smart contract framework showdown\n",
    "\n",
    "- Compare popularity of different smart contract development frameworks\n",
    "- Foundry is taking over from Truffle and Hardhat\n",
    "- Foundry is too new to be included here\n",
    "- Foundry support is mostly kindling support on the community Telegram chat\n",
    "- Brownie is now unmaintained and being replaced by Ape \n",
    "- Remix is included here, even though it's web IDE and not a framework per se"
   ]
  },
  {
   "cell_type": "code",
   "execution_count": 39,
   "metadata": {},
   "outputs": [
    {
     "data": {
      "text/plain": [
       "Text(0, 0.5, 'StackOverflow posts per quarter')"
      ]
     },
     "execution_count": 39,
     "metadata": {},
     "output_type": "execute_result"
    }
   ],
   "source": [
    "quaterly_binned = create_binned_df_by_tags(\n",
    "    df, \n",
    "    {\n",
    "        \"truffle\": (\"truffle\",),\n",
    "        \"hardhat\": (\"hardhat\",),\n",
    "        \"brownie\": (\"brownie\",),\n",
    "        \"openzeppelin\": (\"openzeppelin\",),\n",
    "        \"remix\": (\"remix\",),\n",
    "    }, \n",
    ")\n",
    "\n",
    "ax = quaterly_binned.plot.line()\n",
    "\n",
    "ax.set_xlabel(\"Time\")\n",
    "ax.set_ylabel(\"StackOverflow posts per quarter\")"
   ]
  },
  {
   "cell_type": "markdown",
   "metadata": {},
   "source": [
    "# Solana breakdown\n",
    "\n",
    "- What are the various Solana sub-tags doing\n",
    "\n"
   ]
  },
  {
   "cell_type": "code",
   "execution_count": 40,
   "metadata": {},
   "outputs": [
    {
     "data": {
      "text/plain": [
       "Text(0, 0.5, 'StackOverflow posts per quarter')"
      ]
     },
     "execution_count": 40,
     "metadata": {},
     "output_type": "execute_result"
    }
   ],
   "source": [
    "sol_sub_tags = [\n",
    "    \"solana-cli\",\n",
    "    \"solana-transaction-instruction\",\n",
    "    \"solana-program-library\",\n",
    "    \"solana-web3js\",\n",
    "    \"anchor-solana\",\n",
    "    \"solana-py\",    \n",
    "]\n",
    "\n",
    "quaterly_binned = create_binned_df_by_tags(\n",
    "    df, \n",
    "    {tag: (tag,) for tag in sol_sub_tags}, \n",
    ")\n",
    "\n",
    "ax = quaterly_binned.plot.line()\n",
    "\n",
    "ax.set_xlabel(\"Time\")\n",
    "ax.set_ylabel(\"StackOverflow posts per quarter\")"
   ]
  },
  {
   "cell_type": "markdown",
   "metadata": {},
   "source": [
    "# Binance breakdown\n",
    "\n",
    "- What's going on Binance Smart Chain\n",
    "\n"
   ]
  },
  {
   "cell_type": "code",
   "execution_count": 41,
   "metadata": {},
   "outputs": [
    {
     "data": {
      "text/plain": [
       "Text(0, 0.5, 'StackOverflow posts per quarter')"
      ]
     },
     "execution_count": 41,
     "metadata": {},
     "output_type": "execute_result"
    }
   ],
   "source": [
    "bsc_sub_tags = [\n",
    "    \"bep20\",\n",
    "    \"bsc\",\n",
    "    \"binance-smart-chain\",\n",
    "]\n",
    "\n",
    "quaterly_binned = create_binned_df_by_tags(\n",
    "    df, \n",
    "    {tag: (tag,) for tag in bsc_sub_tags}, \n",
    ")\n",
    "\n",
    "ax = quaterly_binned.plot.line()\n",
    "\n",
    "ax.set_xlabel(\"Time\")\n",
    "ax.set_ylabel(\"StackOverflow posts per quarter\")"
   ]
  },
  {
   "cell_type": "markdown",
   "metadata": {},
   "source": [
    "# Wallet related\n",
    "\n",
    "- While MetaMask is not a programming interface, but a single implementation, \n",
    "  people tag their questions with it as they do not understand the difference\n",
    "- New, mobile-friendly, WalletConnect interface has been in progress since 2021  "
   ]
  },
  {
   "cell_type": "code",
   "execution_count": 42,
   "metadata": {},
   "outputs": [
    {
     "data": {
      "text/plain": [
       "Text(0, 0.5, 'StackOverflow posts per quarter')"
      ]
     },
     "execution_count": 42,
     "metadata": {},
     "output_type": "execute_result"
    }
   ],
   "source": [
    "quaterly_binned = create_binned_df_by_tags(\n",
    "    df, \n",
    "    {\n",
    "        \"metamask\": (\"metamask\",),\n",
    "        \"wallet-connect\": (\"wallet-connect\",),\n",
    "    }, \n",
    ")\n",
    "\n",
    "ax = quaterly_binned.plot.line()\n",
    "\n",
    "ax.set_xlabel(\"Time\")\n",
    "ax.set_ylabel(\"StackOverflow posts per quarter\")"
   ]
  },
  {
   "cell_type": "markdown",
   "metadata": {},
   "source": [
    "# Dapp related\n",
    "\n",
    "- Benchmark some popular Dapps and protocols that are not blockchains themselves\n",
    "- OpenSea is included here, although it is not a true decentralised application\n",
    "  and do not have a developer community\n"
   ]
  },
  {
   "cell_type": "code",
   "execution_count": 43,
   "metadata": {},
   "outputs": [
    {
     "data": {
      "text/plain": [
       "Text(0, 0.5, 'StackOverflow posts per quarter')"
      ]
     },
     "execution_count": 43,
     "metadata": {},
     "output_type": "execute_result"
    }
   ],
   "source": [
    "quaterly_binned = create_binned_df_by_tags(\n",
    "    df, \n",
    "    {\n",
    "        \"uniswap\": (\"uniswap\",),\n",
    "        \"chainlink\": (\"chainlink\",),\n",
    "        \"wallet-connect\": (\"wallet-connect\",),\n",
    "        \"opeasea\": (\"opeasea\",),\n",
    "        \"thegraph\": (\"thegraph\",),\n",
    "        \"gnosis-safe\": (\"gnosis-safe\",),\n",
    "    }, \n",
    ")\n",
    "\n",
    "ax = quaterly_binned.plot.line()\n",
    "\n",
    "ax.set_xlabel(\"Time\")\n",
    "ax.set_ylabel(\"StackOverflow posts per quarter\")"
   ]
  },
  {
   "cell_type": "markdown",
   "metadata": {},
   "source": [
    "# Private or public blockchain\n",
    "\n",
    "- Hyperledger is the most well-known implementation used on private blockchains\n",
    "- Private blockchain peaked 2018 and never recovered - enterprises\n",
    "  are now looking to implement their use cases on public blockchains, subnets or similar"
   ]
  },
  {
   "cell_type": "code",
   "execution_count": 44,
   "metadata": {},
   "outputs": [
    {
     "data": {
      "text/plain": [
       "Text(0, 0.5, 'StackOverflow posts per quarter')"
      ]
     },
     "execution_count": 44,
     "metadata": {},
     "output_type": "execute_result"
    }
   ],
   "source": [
    "quaterly_binned = create_binned_df_by_tags(\n",
    "    df, \n",
    "    {\n",
    "        \"ethereum\": (\"ethereum\",),\n",
    "        \"hyperledger\": (\"hyperledger\", \"hyperledger-fabric\",),\n",
    "    }, \n",
    ")\n",
    "\n",
    "ax = quaterly_binned.plot.line()\n",
    "\n",
    "ax.set_xlabel(\"Time\")\n",
    "ax.set_ylabel(\"StackOverflow posts per quarter\")\n"
   ]
  },
  {
   "cell_type": "markdown",
   "metadata": {},
   "source": [
    "- We also check how well our enterprise overlords answer to questions compared to the more community oriented public blockchain folks.\n",
    "- Good answer to posts ratio is a sign of a healthy community\n",
    "- We compare all blockchain questions, Ethereum and Hyperledger \n",
    "- As discussed earlier, StackOverflow is in decline and we can see this as well\n",
    "  by having more and more questions going unanswered. Either questions are low quality\n",
    "  (written unprofessionally) or people have stopped bothering answering for other reasons\n",
    "- We see the quality of both Ethereum and Hyperledger communities degrading over time\n",
    "- This is likely due to more low skilled developers entering the industry,\n",
    "  whereas early on the community consists on professional developers only\n",
    "- We also see spikes around the launches of Bitcoin and Ethereum communities,\n",
    "  when the community was small and consisting only domain experts\n"
   ]
  },
  {
   "cell_type": "code",
   "execution_count": 45,
   "metadata": {},
   "outputs": [],
   "source": [
    "from blockchain_stackoverflow.helpers import bin_to_time_with_answers, get_posts_by_tags\n",
    "\n",
    "hyperledger = get_posts_by_tags(df, (\"hyperledger\", \"hyperledger-fabric\",))\n",
    "ethereum = get_posts_by_tags(df, (\"ethereum\",))\n",
    "\n",
    "hyperledger_binned = bin_to_time_with_answers(hyperledger)\n",
    "ethereum_binned = bin_to_time_with_answers(ethereum)\n",
    "overall = bin_to_time_with_answers(df)\n",
    "\n",
    "answer_ratios = pd.DataFrame({\n",
    "    \"ethereum\": ethereum_binned[\"answer_to_posts_ratio\"],\n",
    "    \"hyperledger\": hyperledger_binned[\"answer_to_posts_ratio\"],\n",
    "    \"all blockchain\": overall[\"answer_to_posts_ratio\"],\n",
    "})\n",
    "\n",
    "ax = answer_ratios.plot.line()"
   ]
  },
  {
   "cell_type": "markdown",
   "metadata": {},
   "source": [
    "# Community developer relations health indicator\n",
    "\n",
    "- We do answer to questions ratio check for every tag we have collected.\n",
    "- We sort tags by healthiest (most answers to questions) to unheathy (questions go without answers).\n",
    "- We do not do time analysis for trends, but just take the lifetime value for each tag.\n",
    "- Hedera community seems to be doing an excellent job answering the questions.\n",
    "- Some blue chip projects like **Uniswap**, **WalletConnect** and **FileCoin** have very low score, indicating that most questions go unaswered. These projects should likely invest more into the basic documentation and developer support."
   ]
  },
  {
   "cell_type": "code",
   "execution_count": 46,
   "metadata": {},
   "outputs": [
    {
     "name": "stdout",
     "output_type": "stream",
     "text": [
      "web3 lacks any questions\n"
     ]
    }
   ],
   "source": [
    "\n",
    "from blockchain_stackoverflow.tag_map import INTERESTING_TAGS\n",
    "\n",
    "# tag -> answer ratio mappings\n",
    "ratios = pd.Series(dtype=\"float\")\n",
    "\n",
    "for tag in INTERESTING_TAGS:\n",
    "    posts = get_posts_by_tags(df, (tag,))\n",
    "    question_count = len(posts)\n",
    "    if question_count == 0:\n",
    "        print(f\"{tag} lacks any questions\")\n",
    "        continue\n",
    "    answer_count = posts[\"AnswerCount\"].sum()\n",
    "    ratios[tag] = answer_count / question_count\n",
    "\n",
    "ratios = ratios.sort_values()\n",
    "ax = ratios.plot.barh(figsize=(15, 30,))\n",
    "\n"
   ]
  }
 ],
 "metadata": {
  "kernelspec": {
   "display_name": "blockchain-stackoverflow-hs4u8hi8-py3.11",
   "language": "python",
   "name": "python3"
  },
  "language_info": {
   "codemirror_mode": {
    "name": "ipython",
    "version": 3
   },
   "file_extension": ".py",
   "mimetype": "text/x-python",
   "name": "python",
   "nbconvert_exporter": "python",
   "pygments_lexer": "ipython3",
   "version": "3.11.5"
  },
  "orig_nbformat": 4
 },
 "nbformat": 4,
 "nbformat_minor": 2
}
