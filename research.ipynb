{
 "cells": [
  {
   "cell_type": "markdown",
   "metadata": {},
   "source": [
    "# Blockchain development research\n",
    "\n",
    "- This is a research of popularity and features of various different blockchain development\n",
    "  by analysing the questions and answers on the world number one programmer forum StackOverflow\n",
    "- For updates [subscribe to newsletter](https://tradingstrategy.ai/community) or\n",
    "  [follow on Twitter](https://tradingstrategy.ai/community)"
   ]
  },
  {
   "cell_type": "code",
   "execution_count": 3,
   "metadata": {},
   "outputs": [],
   "source": [
    "import pandas as pd\n",
    "\n",
    "from blockchain_stackoverflow import entertain_me\n",
    "\n",
    "entertain_me()  # Initialise notebook output\n",
    "\n",
    "# Load our data\n",
    "df = pd.read_parquet(\"blockchain-questions.parquet\")"
   ]
  },
  {
   "cell_type": "markdown",
   "metadata": {},
   "source": [
    "## Top 3\n",
    "\n",
    "Plot the popularity of top three blockchains, as inferred from the domain specific knowledge."
   ]
  },
  {
   "cell_type": "code",
   "execution_count": 4,
   "metadata": {},
   "outputs": [
    {
     "ename": "NameError",
     "evalue": "name 'tags_df' is not defined",
     "output_type": "error",
     "traceback": [
      "\u001b[0;31m---------------------------------------------------------------------------\u001b[0m",
      "\u001b[0;31mNameError\u001b[0m                                 Traceback (most recent call last)",
      "Cell \u001b[0;32mIn[4], line 3\u001b[0m\n\u001b[1;32m      1\u001b[0m \u001b[39mfrom\u001b[39;00m \u001b[39mblockchain_stackoverflow\u001b[39;00m\u001b[39m.\u001b[39;00m\u001b[39mhelpers\u001b[39;00m \u001b[39mimport\u001b[39;00m get_posts_by_tag\n\u001b[0;32m----> 3\u001b[0m bitcoin \u001b[39m=\u001b[39m get_posts_by_tag(df, \u001b[39m\"\u001b[39;49m\u001b[39mbitcoin\u001b[39;49m\u001b[39m\"\u001b[39;49m)\n\u001b[1;32m      4\u001b[0m ethereum \u001b[39m=\u001b[39m get_posts_by_tag(df, \u001b[39m\"\u001b[39m\u001b[39methereum\u001b[39m\u001b[39m\"\u001b[39m)\n\u001b[1;32m      5\u001b[0m solana \u001b[39m=\u001b[39m get_posts_by_tag(df, \u001b[39m\"\u001b[39m\u001b[39msolana\u001b[39m\u001b[39m\"\u001b[39m)\n",
      "File \u001b[0;32m~/stackoverflow/blockchain_stackoverflow/helpers.py:15\u001b[0m, in \u001b[0;36mget_posts_by_tag\u001b[0;34m(df, tags)\u001b[0m\n\u001b[1;32m      5\u001b[0m \u001b[39mdef\u001b[39;00m \u001b[39mget_posts_by_tag\u001b[39m(df: pd\u001b[39m.\u001b[39mDataFrame, tags: \u001b[39mlist\u001b[39m[\u001b[39mstr\u001b[39m]) \u001b[39m-\u001b[39m\u001b[39m>\u001b[39m pd\u001b[39m.\u001b[39mDataFrame:\n\u001b[1;32m      6\u001b[0m \u001b[39m    \u001b[39m\u001b[39m\"\"\"Extract posts by a tag.\u001b[39;00m\n\u001b[1;32m      7\u001b[0m \u001b[39m    \u001b[39;00m\n\u001b[1;32m      8\u001b[0m \u001b[39m    :param df:\u001b[39;00m\n\u001b[0;32m   (...)\u001b[0m\n\u001b[1;32m     12\u001b[0m \u001b[39m        DataFrame subset with only matched tags\u001b[39;00m\n\u001b[1;32m     13\u001b[0m \u001b[39m    \"\"\"\u001b[39;00m\n\u001b[0;32m---> 15\u001b[0m     formatted_tags \u001b[39m=\u001b[39m [\u001b[39mf\u001b[39m\u001b[39m\"\u001b[39m\u001b[39m<\u001b[39m\u001b[39m{\u001b[39;00mt\u001b[39m}\u001b[39;00m\u001b[39m>\u001b[39m\u001b[39m\"\u001b[39m \u001b[39mfor\u001b[39;00m t \u001b[39min\u001b[39;00m tags_df[\u001b[39m\"\u001b[39m\u001b[39mTagName\u001b[39m\u001b[39m\"\u001b[39m]]\n\u001b[1;32m     16\u001b[0m     tags_regex \u001b[39m=\u001b[39m \u001b[39m\"\u001b[39m\u001b[39m|\u001b[39m\u001b[39m\"\u001b[39m\u001b[39m.\u001b[39mjoin(formatted_tags)\n\u001b[1;32m     17\u001b[0m     \u001b[39mreturn\u001b[39;00m df\u001b[39m.\u001b[39mloc[df[\u001b[39m\"\u001b[39m\u001b[39mTags\u001b[39m\u001b[39m\"\u001b[39m]\u001b[39m.\u001b[39mstr\u001b[39m.\u001b[39mcontains(tags_regex, case\u001b[39m=\u001b[39m\u001b[39mFalse\u001b[39;00m, regex\u001b[39m=\u001b[39m\u001b[39mTrue\u001b[39;00m)]\n",
      "\u001b[0;31mNameError\u001b[0m: name 'tags_df' is not defined"
     ]
    }
   ],
   "source": [
    "from blockchain_stackoverflow.helpers import get_posts_by_tag\n",
    "\n",
    "bitcoin = get_posts_by_tag(df, \"bitcoin\")\n",
    "ethereum = get_posts_by_tag(df, \"ethereum\")\n",
    "solana = get_posts_by_tag(df, \"solana\")\n",
    "\n"
   ]
  }
 ],
 "metadata": {
  "kernelspec": {
   "display_name": "blockchain-stackoverflow-hs4u8hi8-py3.11",
   "language": "python",
   "name": "python3"
  },
  "language_info": {
   "codemirror_mode": {
    "name": "ipython",
    "version": 3
   },
   "file_extension": ".py",
   "mimetype": "text/x-python",
   "name": "python",
   "nbconvert_exporter": "python",
   "pygments_lexer": "ipython3",
   "version": "3.11.5"
  },
  "orig_nbformat": 4
 },
 "nbformat": 4,
 "nbformat_minor": 2
}
