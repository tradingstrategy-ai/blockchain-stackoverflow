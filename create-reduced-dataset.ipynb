{
 "cells": [
  {
   "cell_type": "markdown",
   "metadata": {},
   "source": [
    "# Tagged dataset creation\n",
    "\n",
    "- Because the full StackOverflow dataset is too large to fit into the RAM,\n",
    "  we create a smaller dataset that contains data for questions \n",
    "  only on our tag list\n",
    "- We do this by filtering out CSV data chunk by chunk\n",
    "- We dump the resulting dataset to a Parquest file\n",
    "- Any further analysis is done on this reduced dataset  "
   ]
  },
  {
   "cell_type": "code",
   "execution_count": 14,
   "metadata": {},
   "outputs": [
    {
     "name": "stdout",
     "output_type": "stream",
     "text": [
      "Formatted tags look like: ['<diem>', '<bitcoin>', '<cosmos>', '<blockchain>', '<ethereum>']\n"
     ]
    }
   ],
   "source": [
    "import pandas as pd\n",
    "\n",
    "# Read tags\n",
    "tags_df = pd.read_parquet(\"tags.parquet\")\n",
    "\n",
    "#: In SO export tags are concatenaed string that looks like this\n",
    "#: <winapi><visual-c++><mfc>\n",
    "formatted_tags = [f\"<{t}>\" for t in tags_df[\"TagName\"]]\n",
    "print(\"Formatted tags look like:\", formatted_tags[0:5])\n",
    "\n",
    "tags_regex = \"|\".join(formatted_tags)"
   ]
  },
  {
   "cell_type": "code",
   "execution_count": 15,
   "metadata": {},
   "outputs": [
    {
     "name": "stderr",
     "output_type": "stream",
     "text": [
      "0it [00:00, ?it/s]"
     ]
    },
    {
     "name": "stderr",
     "output_type": "stream",
     "text": [
      "3211264it [00:26, 116077.02it/s, Date=2010-10-24T14:10:43.843]"
     ]
    }
   ],
   "source": [
    "from tqdm.auto import tqdm\n",
    "from pandas.io.parsers.readers import TextFileReader\n",
    "\n",
    "# Operate 64k rows at a time\n",
    "chunk_size = 2**16\n",
    "\n",
    "result_df: pd.DataFrame = None\n",
    "\n",
    "\n",
    "with tqdm() as progress_bar:\n",
    "\n",
    "    reader: TextFileReader\n",
    "\n",
    "    rows_read = 0\n",
    "\n",
    "    with pd.read_csv(\"csv/Posts.csv\", chunksize=chunk_size) as reader:\n",
    "        chunk: pd.DataFrame\n",
    "        for chunk in reader:\n",
    "            \n",
    "            # Make Tags column regex friendly\n",
    "            chunk[\"Tags\"] = chunk[\"Tags\"].fillna(\"\")\n",
    "            \n",
    "            # Find posts in this chunk that match our tag filter\n",
    "            matched_chunk = chunk.loc[chunk[\"Tags\"].str.contains(tags_regex, case=False, regex=True)]\n",
    "            if result_df is None:\n",
    "                result_df = matched_chunk\n",
    "            else:\n",
    "                result_df = pd.concat((result_df, matched_chunk,))\n",
    "\n",
    "            last = chunk.iloc[-1]\n",
    "\n",
    "            # Show the date where the filter progres is going.\n",
    "            # We are finished when reaching 2023-06\n",
    "            progress_bar.set_postfix({\n",
    "                \"Date\": last[\"CreationDate\"],      \n",
    "                \"Matches\": len(result_df)         \n",
    "            })\n",
    "\n",
    "            # Display rows read as a progress bar,\n",
    "            # but we do not know the end\n",
    "            progress_bar.update(len(chunk))\n",
    "\n"
   ]
  },
  {
   "cell_type": "code",
   "execution_count": null,
   "metadata": {},
   "outputs": [
    {
     "ename": "AttributeError",
     "evalue": "'DataFrame' object has no attribute 'write_parquet'",
     "output_type": "error",
     "traceback": [
      "\u001b[0;31m---------------------------------------------------------------------------\u001b[0m",
      "\u001b[0;31mAttributeError\u001b[0m                            Traceback (most recent call last)",
      "\u001b[0;32m/tmp/ipykernel_1286901/811611694.py\u001b[0m in \u001b[0;36m?\u001b[0;34m()\u001b[0m\n\u001b[1;32m      1\u001b[0m \u001b[0;31m# Write out to disk\u001b[0m\u001b[0;34m\u001b[0m\u001b[0;34m\u001b[0m\u001b[0m\n\u001b[0;32m----> 2\u001b[0;31m \u001b[0mresult_df\u001b[0m\u001b[0;34m.\u001b[0m\u001b[0mwrite_parquet\u001b[0m\u001b[0;34m(\u001b[0m\u001b[0;34m\"blockchain-questions.parquet\"\u001b[0m\u001b[0;34m)\u001b[0m\u001b[0;34m\u001b[0m\u001b[0;34m\u001b[0m\u001b[0m\n\u001b[0m\u001b[1;32m      3\u001b[0m \u001b[0mprint\u001b[0m\u001b[0;34m(\u001b[0m\u001b[0;34mf\"We have total {len(result_df)} tagged questions and answers\"\u001b[0m\u001b[0;34m)\u001b[0m\u001b[0;34m\u001b[0m\u001b[0;34m\u001b[0m\u001b[0m\n",
      "\u001b[0;32m~/.cache/pypoetry/virtualenvs/blockchain-stackoverflow-hs4u8hi8-py3.11/lib/python3.11/site-packages/pandas/core/generic.py\u001b[0m in \u001b[0;36m?\u001b[0;34m(self, name)\u001b[0m\n\u001b[1;32m   6198\u001b[0m             \u001b[0;32mand\u001b[0m \u001b[0mname\u001b[0m \u001b[0;32mnot\u001b[0m \u001b[0;32min\u001b[0m \u001b[0mself\u001b[0m\u001b[0;34m.\u001b[0m\u001b[0m_accessors\u001b[0m\u001b[0;34m\u001b[0m\u001b[0;34m\u001b[0m\u001b[0m\n\u001b[1;32m   6199\u001b[0m             \u001b[0;32mand\u001b[0m \u001b[0mself\u001b[0m\u001b[0;34m.\u001b[0m\u001b[0m_info_axis\u001b[0m\u001b[0;34m.\u001b[0m\u001b[0m_can_hold_identifiers_and_holds_name\u001b[0m\u001b[0;34m(\u001b[0m\u001b[0mname\u001b[0m\u001b[0;34m)\u001b[0m\u001b[0;34m\u001b[0m\u001b[0;34m\u001b[0m\u001b[0m\n\u001b[1;32m   6200\u001b[0m         ):\n\u001b[1;32m   6201\u001b[0m             \u001b[0;32mreturn\u001b[0m \u001b[0mself\u001b[0m\u001b[0;34m[\u001b[0m\u001b[0mname\u001b[0m\u001b[0;34m]\u001b[0m\u001b[0;34m\u001b[0m\u001b[0;34m\u001b[0m\u001b[0m\n\u001b[0;32m-> 6202\u001b[0;31m         \u001b[0;32mreturn\u001b[0m \u001b[0mobject\u001b[0m\u001b[0;34m.\u001b[0m\u001b[0m__getattribute__\u001b[0m\u001b[0;34m(\u001b[0m\u001b[0mself\u001b[0m\u001b[0;34m,\u001b[0m \u001b[0mname\u001b[0m\u001b[0;34m)\u001b[0m\u001b[0;34m\u001b[0m\u001b[0;34m\u001b[0m\u001b[0m\n\u001b[0m",
      "\u001b[0;31mAttributeError\u001b[0m: 'DataFrame' object has no attribute 'write_parquet'"
     ]
    }
   ],
   "source": [
    "# Write out to disk\n",
    "result_df.write_parquet(\"blockchain-questions.parquet\")\n",
    "print(f\"We have total {len(result_df)} tagged questions and answers\")"
   ]
  }
 ],
 "metadata": {
  "kernelspec": {
   "display_name": "blockchain-stackoverflow-hs4u8hi8-py3.11",
   "language": "python",
   "name": "python3"
  },
  "language_info": {
   "codemirror_mode": {
    "name": "ipython",
    "version": 3
   },
   "file_extension": ".py",
   "mimetype": "text/x-python",
   "name": "python",
   "nbconvert_exporter": "python",
   "pygments_lexer": "ipython3",
   "version": "3.11.5"
  },
  "orig_nbformat": 4
 },
 "nbformat": 4,
 "nbformat_minor": 2
}
