{
 "cells": [
  {
   "cell_type": "markdown",
   "metadata": {},
   "source": [
    "# Create a monthly binned posts counts of all StackOverflow posts\n",
    "\n",
    "-Because the dataset is too large to fit into the RAM,\n",
    " [we operate in chunks](https://pandas.pydata.org/docs/user_guide/scale.html)\n",
    "- [How to read larger than RAM CSV with Pandas](https://stackoverflow.com/a/25962187/315168)\n",
    "- Write results to `monthly_posts.parquet`"
   ]
  },
  {
   "cell_type": "markdown",
   "metadata": {},
   "source": [
    "# Operate 64k rows at a time\n",
    "chunk_size = 2**16\n",
    "\n",
    "import pandas as pd\n",
    "\n",
    "with pd.read_csv(filename, chunksize=chunksize) as reader:\n",
    "    chunk: pd.DataFrame\n",
    "    for chunk in reader:\n",
    "        print(chunk)\n",
    "        break\n"
   ]
  }
 ],
 "metadata": {
  "language_info": {
   "name": "python"
  },
  "orig_nbformat": 4
 },
 "nbformat": 4,
 "nbformat_minor": 2
}
