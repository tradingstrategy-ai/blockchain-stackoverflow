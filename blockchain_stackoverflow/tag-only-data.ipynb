{
 "cells": [
  {
   "cell_type": "markdown",
   "metadata": {},
   "source": [
    "# Tagged dataset creation\n",
    "\n",
    "- Because the full StackOverflow dataset is too large to fit into the RAM,\n",
    "  we create a smaller dataset that contains data for questions \n",
    "  only on our tag list\n",
    "- We do this by filtering out CSV data chunk by chunk\n",
    "- We dump the resulting dataset to a Parquest file\n",
    "- Any further analysis is done on this reduced dataset  "
   ]
  },
  {
   "cell_type": "code",
   "execution_count": 1,
   "metadata": {},
   "outputs": [
    {
     "ename": "NameError",
     "evalue": "name 'filename' is not defined",
     "output_type": "error",
     "traceback": [
      "\u001b[0;31m---------------------------------------------------------------------------\u001b[0m",
      "\u001b[0;31mNameError\u001b[0m                                 Traceback (most recent call last)",
      "Cell \u001b[0;32mIn[1], line 6\u001b[0m\n\u001b[1;32m      2\u001b[0m chunk_size \u001b[39m=\u001b[39m \u001b[39m2\u001b[39m\u001b[39m*\u001b[39m\u001b[39m*\u001b[39m\u001b[39m16\u001b[39m\n\u001b[1;32m      4\u001b[0m \u001b[39mimport\u001b[39;00m \u001b[39mpandas\u001b[39;00m \u001b[39mas\u001b[39;00m \u001b[39mpd\u001b[39;00m\n\u001b[0;32m----> 6\u001b[0m \u001b[39mwith\u001b[39;00m pd\u001b[39m.\u001b[39mread_csv(filename, chunksize\u001b[39m=\u001b[39mchunksize) \u001b[39mas\u001b[39;00m reader:\n\u001b[1;32m      7\u001b[0m     chunk: pd\u001b[39m.\u001b[39mDataFrame\n\u001b[1;32m      8\u001b[0m     \u001b[39mfor\u001b[39;00m chunk \u001b[39min\u001b[39;00m reader:\n",
      "\u001b[0;31mNameError\u001b[0m: name 'filename' is not defined"
     ]
    }
   ],
   "source": [
    "# Operate 64k rows at a time\n",
    "chunk_size = 2**16\n",
    "\n",
    "import pandas as pd\n",
    "\n",
    "with pd.read_csv(filename, chunksize=chunksize) as reader:\n",
    "    chunk: pd.DataFrame\n",
    "    for chunk in reader:\n",
    "        print(chunk)\n",
    "        break\n"
   ]
  }
 ],
 "metadata": {
  "kernelspec": {
   "display_name": "blockchain-stackoverflow-hs4u8hi8-py3.11",
   "language": "python",
   "name": "python3"
  },
  "language_info": {
   "codemirror_mode": {
    "name": "ipython",
    "version": 3
   },
   "file_extension": ".py",
   "mimetype": "text/x-python",
   "name": "python",
   "nbconvert_exporter": "python",
   "pygments_lexer": "ipython3",
   "version": "3.11.5"
  },
  "orig_nbformat": 4
 },
 "nbformat": 4,
 "nbformat_minor": 2
}
