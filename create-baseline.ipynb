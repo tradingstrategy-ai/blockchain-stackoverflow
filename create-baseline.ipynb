{
 "cells": [
  {
   "cell_type": "markdown",
   "metadata": {},
   "source": [
    "# Create a monthly binned posts counts of all StackOverflow posts\n",
    "\n",
    "- Create a Parquet file that contains only id/creation date series\n",
    "- This allows us to plot a baseline of StackOverflow raise and decline \n",
    "  over time\n",
    "- We can use this to compare blockchain question popularity to overall StackOverflow popularity"
   ]
  },
  {
   "cell_type": "code",
   "execution_count": 1,
   "metadata": {},
   "outputs": [
    {
     "data": {
      "application/vnd.jupyter.widget-view+json": {
       "model_id": "817a5a486f6d427a8d497dce19c5058e",
       "version_major": 2,
       "version_minor": 0
      },
      "text/plain": [
       "0it [00:00, ?it/s]"
      ]
     },
     "metadata": {},
     "output_type": "display_data"
    },
    {
     "name": "stderr",
     "output_type": "stream",
     "text": [
      "/tmp/ipykernel_1296884/3869223909.py:24: UserWarning: Could not infer format, so each element will be parsed individually, falling back to `dateutil`. To ensure parsing is consistent and as-expected, please specify a format.\n",
      "  matched_chunk[\"CreationDate\"] = pd.to_datetime(chunk[\"CreationDate\"]).dt.strftime('%Y-%m-%dT%H:%M:%SZ')\n"
     ]
    }
   ],
   "source": [
    "import pandas as pd\n",
    "from tqdm.auto import tqdm\n",
    "from pandas.io.parsers.readers import TextFileReader\n",
    "\n",
    "chunk_size = 2**16  # 64k rows at a time\n",
    "result_df: pd.DataFrame = None\n",
    "matched_chunks: list[pd.DataFrame] = []\n",
    "match_count = row_count = 0\n",
    "\n",
    "with tqdm() as progress_bar:\n",
    "\n",
    "    reader: TextFileReader\n",
    "\n",
    "    rows_read = 0\n",
    "\n",
    "    with pd.read_csv(\"csv/Posts.csv\", chunksize=chunk_size) as reader:\n",
    "        chunk: pd.DataFrame\n",
    "        for chunk in reader:\n",
    "                        \n",
    "            # Find posts in this chunk that match our tag filter\n",
    "            matched_chunk = pd.DataFrame()\n",
    "            # Parse the dates \n",
    "            # https://stackoverflow.com/a/61959823/315168\n",
    "            matched_chunk[\"CreationDate\"] = pd.to_datetime(chunk[\"CreationDate\"]).dt.strftime('%Y-%m-%dT%H:%M:%SZ')\n",
    "            matched_chunk[\"Id\"] = chunk[\"Id\"]\n",
    "            matched_chunk.set_index(\"Id\")\n",
    "            \n",
    "            matched_chunks.append(matched_chunk)\n",
    "            row_count += len(chunk)\n",
    "\n",
    "            last = chunk.iloc[-1]\n",
    "\n",
    "            # Show the date where the filter progres is going.\n",
    "            # We are finished when reaching 2023-06\n",
    "            progress_bar.set_postfix({\n",
    "                \"Date\": last[\"CreationDate\"],      \n",
    "                \"Total rows\": f\"{row_count:,}\",\n",
    "            })\n",
    "\n",
    "            # Display rows read as a progress bar,\n",
    "            # but we do not know the end\n",
    "            progress_bar.update(len(chunk))\n",
    "\n",
    "\n",
    "result_df = pd.concat(matched_chunks)"
   ]
  },
  {
   "cell_type": "code",
   "execution_count": null,
   "metadata": {},
   "outputs": [],
   "source": [
    "# Write output\n",
    "result_df.to_parquet(\"all-creation-dates.parquet\")\n",
    "\n",
    "# Count posts by month for a smaller dataset\n",
    "# https://stackoverflow.com/a/55726226/315168\n",
    "post_counts_month_df = pd.DataFrame()\n",
    "post_counts_month_df[\"post_counts_month\"] = result_df.groupby([pd.Grouper(key='CreationDate', freq='M')])['CreationDate'].transform('size').astype(int)\n",
    "post_counts_month_df.to_parquet(\"post_counts_month.parquet\")"
   ]
  }
 ],
 "metadata": {
  "kernelspec": {
   "display_name": "blockchain-stackoverflow-hs4u8hi8-py3.11",
   "language": "python",
   "name": "python3"
  },
  "language_info": {
   "codemirror_mode": {
    "name": "ipython",
    "version": 3
   },
   "file_extension": ".py",
   "mimetype": "text/x-python",
   "name": "python",
   "nbconvert_exporter": "python",
   "pygments_lexer": "ipython3",
   "version": "3.11.5"
  },
  "orig_nbformat": 4
 },
 "nbformat": 4,
 "nbformat_minor": 2
}
