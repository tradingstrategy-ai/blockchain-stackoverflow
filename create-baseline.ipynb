{
 "cells": [
  {
   "cell_type": "markdown",
   "metadata": {},
   "source": [
    "# Create a monthly binned posts counts of all StackOverflow posts\n",
    "\n",
    "- Create a Parquet file that contains only id/creation date series\n",
    "- This allows us to plot a baseline of StackOverflow raise and decline \n",
    "  over time\n",
    "- We can use this to compare blockchain question popularity to overall StackOverflow popularity\n",
    "- Run time ~15 minutes"
   ]
  },
  {
   "cell_type": "code",
   "execution_count": 1,
   "metadata": {},
   "outputs": [
    {
     "data": {
      "application/vnd.jupyter.widget-view+json": {
       "model_id": "14076c392a01459fa15cd214019710d4",
       "version_major": 2,
       "version_minor": 0
      },
      "text/plain": [
       "0it [00:00, ?it/s]"
      ]
     },
     "metadata": {},
     "output_type": "display_data"
    }
   ],
   "source": [
    "import pandas as pd\n",
    "from tqdm.auto import tqdm\n",
    "from pandas.io.parsers.readers import TextFileReader\n",
    "\n",
    "chunk_size = 2**16  # 64k rows at a time\n",
    "result_df: pd.DataFrame = None\n",
    "matched_chunks: list[pd.DataFrame] = []\n",
    "match_count = row_count = 0\n",
    "\n",
    "with tqdm() as progress_bar:\n",
    "\n",
    "    reader: TextFileReader\n",
    "\n",
    "    rows_read = 0\n",
    "\n",
    "    with pd.read_csv(\"csv/Posts.csv\", chunksize=chunk_size) as reader:\n",
    "        chunk: pd.DataFrame\n",
    "        for chunk in reader:\n",
    "                        \n",
    "            # Find posts in this chunk that match our tag filter\n",
    "            matched_chunk = pd.DataFrame()\n",
    "            # Parse the dates \n",
    "            # https://stackoverflow.com/a/61959823/315168\n",
    "            matched_chunk[\"CreationDate\"] = pd.to_datetime(chunk[\"CreationDate\"], format='ISO8601')\n",
    "            matched_chunk[\"Id\"] = chunk[\"Id\"]\n",
    "            matched_chunk.set_index(\"Id\")\n",
    "            \n",
    "            matched_chunks.append(matched_chunk)\n",
    "            row_count += len(chunk)\n",
    "\n",
    "            last = chunk.iloc[-1]\n",
    "\n",
    "            # Show the date where the filter progres is going.\n",
    "            # We are finished when reaching 2023-06\n",
    "            progress_bar.set_postfix({\n",
    "                \"Date\": last[\"CreationDate\"],      \n",
    "                \"Total rows\": f\"{row_count:,}\",\n",
    "            })\n",
    "\n",
    "            # Display rows read as a progress bar,\n",
    "            # but we do not know the end\n",
    "            progress_bar.update(len(chunk))\n",
    "\n",
    "\n",
    "result_df = pd.concat(matched_chunks)"
   ]
  },
  {
   "cell_type": "code",
   "execution_count": 2,
   "metadata": {},
   "outputs": [],
   "source": [
    "# Write raw output \n",
    "result_df.to_parquet(\"all-creation-dates.parquet\")"
   ]
  },
  {
   "cell_type": "code",
   "execution_count": 24,
   "metadata": {},
   "outputs": [],
   "source": [
    "import itertools\n",
    "# Count posts by month for a smaller dataset\n",
    "# https://stackoverflow.com/a/55726226/315168\n",
    "\n",
    "# dt_indexed_df = result_df.set_index(\"CreationDate\")\n",
    "\n",
    "dt_indexed_df = result_df\n",
    "\n",
    "# https://stackoverflow.com/a/56280791/315168\n",
    "grouped_df = result_df.groupby([pd.Grouper(key='CreationDate', freq='MS')])\n",
    "\n",
    "# Create a dataframe that contains group -> count mappings\n",
    "post_counts_month_df = pd.DataFrame()\n",
    "post_counts_month_df[\"posts_by_period\"] = grouped_df.count()\n"
   ]
  },
  {
   "cell_type": "code",
   "execution_count": 26,
   "metadata": {},
   "outputs": [
    {
     "name": "stdout",
     "output_type": "stream",
     "text": [
      "Month (Timestamp('2008-07-01 00:00:00'),), total 6\n",
      "Month (Timestamp('2008-08-01 00:00:00'),), total 18508\n",
      "Month (Timestamp('2008-09-01 00:00:00'),), total 74271\n",
      "Month (Timestamp('2008-10-01 00:00:00'),), total 68187\n",
      "Month (Timestamp('2008-11-01 00:00:00'),), total 53338\n",
      "2008-07-01 00:00:00: 6\n",
      "2008-08-01 00:00:00: 18508\n",
      "2008-09-01 00:00:00: 74271\n",
      "2008-10-01 00:00:00: 68187\n",
      "2008-11-01 00:00:00: 53338\n"
     ]
    }
   ],
   "source": [
    "\n",
    "# Do manual inspection of data\n",
    "for month_start, month_posts in itertools.islice(grouped_df, 5):\n",
    "    print(f\"Month {month_start}, total {len(month_posts)}\")\n",
    "\n",
    "# Do inspection of processed data frame\n",
    "for idx, row in itertools.islice(post_counts_month_df.iterrows(), 5):\n",
    "    print(f\"{idx}: {row['posts_by_period']}\")\n",
    "\n",
    "post_counts_month_df.to_parquet(\"post_counts_month.parquet\")"
   ]
  },
  {
   "cell_type": "code",
   "execution_count": null,
   "metadata": {},
   "outputs": [],
   "source": [
    "# Now quaterly\n",
    "grouped_df = result_df.groupby([pd.Grouper(key='CreationDate', freq=pd.offsets.QuarterBegin())])\n",
    "post_counts_quarterly_df = pd.DataFrame()\n",
    "post_counts_quarterly_df[\"posts_by_period\"] = grouped_df.count()\n",
    "post_counts_quarterly_df.to_parquet(\"post_counts_quarterly.parquet\")"
   ]
  }
 ],
 "metadata": {
  "kernelspec": {
   "display_name": "blockchain-stackoverflow-hs4u8hi8-py3.11",
   "language": "python",
   "name": "python3"
  },
  "language_info": {
   "codemirror_mode": {
    "name": "ipython",
    "version": 3
   },
   "file_extension": ".py",
   "mimetype": "text/x-python",
   "name": "python",
   "nbconvert_exporter": "python",
   "pygments_lexer": "ipython3",
   "version": "3.11.5"
  },
  "orig_nbformat": 4
 },
 "nbformat": 4,
 "nbformat_minor": 2
}
